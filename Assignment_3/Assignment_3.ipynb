{
 "cells": [
  {
   "cell_type": "code",
   "execution_count": 2,
   "metadata": {},
   "outputs": [
    {
     "name": "stdout",
     "output_type": "stream",
     "text": [
      "Enter probability of a11/36\n",
      "Enter probability of b6/36\n",
      "Enter probability of a_b2/36\n",
      "1/33\n"
     ]
    }
   ],
   "source": [
    "#Question 1\n",
    "from fractions import Fraction as f\n",
    "def Bayes(a,b,a_b):\n",
    "    return(a_b*b)/a\n",
    "a=f(input(\"Enter probability of a\"))\n",
    "b=f(input(\"Enter probability of b\"))\n",
    "a_b=f(input(\"Enter probability of a_b\"))\n",
    "print(Bayes(a,b,a_b))"
   ]
  },
  {
   "cell_type": "code",
   "execution_count": 2,
   "metadata": {},
   "outputs": [
    {
     "name": "stdout",
     "output_type": "stream",
     "text": [
      "enter total no  of white  balls in  bag 1:4\n",
      "enter total no  of white  balls in  bag 2:4\n",
      "enter total no  of black  balls in  bag 1:6\n",
      "enter total no  of black  balls in  bag 1:3\n",
      "0.4166666666666667\n"
     ]
    }
   ],
   "source": [
    "from fractions import Fraction as f\n",
    "b1w=int(input(\"enter total no  of white  balls in  bag 1:\"))\n",
    "b2w=int(input(\"enter total no  of white  balls in  bag 2:\"))\n",
    "b1b=int(input(\"enter total no  of black  balls in  bag 1:\"))\n",
    "b2b=int(input(\"enter total no  of black  balls in  bag 1:\"))\n",
    "p1=(b1b/(b1w+b1b))\n",
    "p2=(b2b/(b2w+b2b))\n",
    "pbag=f(1/2)\n",
    "c=((pbag*p2)/((pbag*p1)+(pbag*p2)))\n",
    "print(c)"
   ]
  },
  {
   "cell_type": "code",
   "execution_count": 4,
   "metadata": {},
   "outputs": [
    {
     "name": "stdout",
     "output_type": "stream",
     "text": [
      "enter total no of cases when person lies truth:2\n",
      "enter total no of time a person speak:3\n",
      "3002399751580331/9007199254740992\n"
     ]
    }
   ],
   "source": [
    "from fractions import Fraction as f\n",
    "p1=int(input(\"enter total no of cases when person lies truth:\"))\n",
    "t=int(input(\"enter total no of time a person speak:\"))\n",
    "p4=f(1/6)\n",
    "notp4=f(1-1/6)\n",
    "c=f(p1/t)\n",
    "d=f(1-c)\n",
    "a=f((p4*c)/((p4*c)+(notp4*d)))\n",
    "print(d)"
   ]
  },
  {
   "cell_type": "code",
   "execution_count": null,
   "metadata": {},
   "outputs": [],
   "source": []
  }
 ],
 "metadata": {
  "kernelspec": {
   "display_name": "Python 3",
   "language": "python",
   "name": "python3"
  },
  "language_info": {
   "codemirror_mode": {
    "name": "ipython",
    "version": 3
   },
   "file_extension": ".py",
   "mimetype": "text/x-python",
   "name": "python",
   "nbconvert_exporter": "python",
   "pygments_lexer": "ipython3",
   "version": "3.7.0"
  }
 },
 "nbformat": 4,
 "nbformat_minor": 2
}
