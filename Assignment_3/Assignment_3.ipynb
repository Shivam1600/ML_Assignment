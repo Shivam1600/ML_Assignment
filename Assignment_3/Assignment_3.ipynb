{
 "cells": [
  {
   "cell_type": "code",
   "execution_count": 2,
   "metadata": {},
   "outputs": [
    {
     "name": "stdout",
     "output_type": "stream",
     "text": [
      "Enter probability of a11/36\n",
      "Enter probability of b6/36\n",
      "Enter probability of a_b2/36\n",
      "1/33\n"
     ]
    }
   ],
   "source": [
    "#Question 1\n",
    "from fractions import Fraction as f\n",
    "def Bayes(a,b,a_b):\n",
    "    return(a_b*b)/a\n",
    "a=f(input(\"Enter probability of a\"))\n",
    "b=f(input(\"Enter probability of b\"))\n",
    "a_b=f(input(\"Enter probability of a_b\"))\n",
    "print(Bayes(a,b,a_b))"
   ]
  },
  {
   "cell_type": "code",
   "execution_count": null,
   "metadata": {},
   "outputs": [],
   "source": []
  },
  {
   "cell_type": "code",
   "execution_count": null,
   "metadata": {},
   "outputs": [],
   "source": []
  },
  {
   "cell_type": "code",
   "execution_count": null,
   "metadata": {},
   "outputs": [],
   "source": []
  }
 ],
 "metadata": {
  "kernelspec": {
   "display_name": "Python 3",
   "language": "python",
   "name": "python3"
  },
  "language_info": {
   "codemirror_mode": {
    "name": "ipython",
    "version": 3
   },
   "file_extension": ".py",
   "mimetype": "text/x-python",
   "name": "python",
   "nbconvert_exporter": "python",
   "pygments_lexer": "ipython3",
   "version": "3.7.0"
  }
 },
 "nbformat": 4,
 "nbformat_minor": 2
}
